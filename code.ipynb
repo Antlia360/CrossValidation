{
  "cells": [
    {
      "cell_type": "code",
      "execution_count": 3,
      "metadata": {
        "id": "DdGt1lQ1UEO5"
      },
      "outputs": [],
      "source": [
        "# import all the necessary libraries here\n",
        "import pandas as pd\n",
        "import numpy as np"
      ]
    },
    {
      "cell_type": "code",
      "execution_count": 4,
      "metadata": {
        "colab": {
          "base_uri": "https://localhost:8080/"
        },
        "id": "cD1uRsFiUEO6",
        "outputId": "9211e2d7-0c3a-4df0-e53a-0fb6876bdcfe"
      },
      "outputs": [
        {
          "name": "stdout",
          "output_type": "stream",
          "text": [
            "(614, 13)\n"
          ]
        }
      ],
      "source": [
        "# read dataset\n",
        "df = pd.read_csv('cross-validation.csv')\n",
        "print(df.shape)"
      ]
    },
    {
      "cell_type": "code",
      "execution_count": 5,
      "metadata": {
        "colab": {
          "base_uri": "https://localhost:8080/"
        },
        "id": "bMQe_UECUJhD",
        "outputId": "b587069d-06c0-4620-9648-f26f1257df80"
      },
      "outputs": [
        {
          "name": "stdout",
          "output_type": "stream",
          "text": [
            "Index(['Loan_ID', 'Gender', 'Married', 'Dependents', 'Education',\n",
            "       'Self_Employed', 'ApplicantIncome', 'CoapplicantIncome', 'LoanAmount',\n",
            "       'Loan_Amount_Term', 'Credit_History', 'Property_Area', 'Loan_Status'],\n",
            "      dtype='object')\n"
          ]
        }
      ],
      "source": [
        "print(df.columns)"
      ]
    },
    {
      "cell_type": "code",
      "execution_count": 6,
      "metadata": {
        "colab": {
          "base_uri": "https://localhost:8080/"
        },
        "id": "vQeeFPWAUNph",
        "outputId": "78c644bb-a3bc-4d7f-d254-83480837032a"
      },
      "outputs": [
        {
          "name": "stdout",
          "output_type": "stream",
          "text": [
            "    Loan_ID Gender Married Dependents     Education Self_Employed  \\\n",
            "0  LP001002   Male      No          0      Graduate            No   \n",
            "1  LP001003   Male     Yes          1      Graduate            No   \n",
            "2  LP001005   Male     Yes          0      Graduate           Yes   \n",
            "3  LP001006   Male     Yes          0  Not Graduate            No   \n",
            "4  LP001008   Male      No          0      Graduate            No   \n",
            "\n",
            "   ApplicantIncome  CoapplicantIncome  LoanAmount  Loan_Amount_Term  \\\n",
            "0             5849                0.0         NaN             360.0   \n",
            "1             4583             1508.0       128.0             360.0   \n",
            "2             3000                0.0        66.0             360.0   \n",
            "3             2583             2358.0       120.0             360.0   \n",
            "4             6000                0.0       141.0             360.0   \n",
            "\n",
            "   Credit_History Property_Area Loan_Status  \n",
            "0             1.0         Urban           Y  \n",
            "1             1.0         Rural           N  \n",
            "2             1.0         Urban           Y  \n",
            "3             1.0         Urban           Y  \n",
            "4             1.0         Urban           Y  \n"
          ]
        }
      ],
      "source": [
        "print(df.head())"
      ]
    },
    {
      "cell_type": "code",
      "execution_count": 7,
      "metadata": {
        "colab": {
          "base_uri": "https://localhost:8080/"
        },
        "id": "Y7xmadALy_uF",
        "outputId": "72e67e15-7eea-4350-922a-fc73685511f5"
      },
      "outputs": [
        {
          "name": "stdout",
          "output_type": "stream",
          "text": [
            "<class 'pandas.core.frame.DataFrame'>\n",
            "RangeIndex: 614 entries, 0 to 613\n",
            "Data columns (total 13 columns):\n",
            " #   Column             Non-Null Count  Dtype  \n",
            "---  ------             --------------  -----  \n",
            " 0   Loan_ID            614 non-null    object \n",
            " 1   Gender             601 non-null    object \n",
            " 2   Married            611 non-null    object \n",
            " 3   Dependents         599 non-null    object \n",
            " 4   Education          614 non-null    object \n",
            " 5   Self_Employed      582 non-null    object \n",
            " 6   ApplicantIncome    614 non-null    int64  \n",
            " 7   CoapplicantIncome  614 non-null    float64\n",
            " 8   LoanAmount         592 non-null    float64\n",
            " 9   Loan_Amount_Term   600 non-null    float64\n",
            " 10  Credit_History     564 non-null    float64\n",
            " 11  Property_Area      614 non-null    object \n",
            " 12  Loan_Status        614 non-null    object \n",
            "dtypes: float64(4), int64(1), object(8)\n",
            "memory usage: 62.5+ KB\n"
          ]
        }
      ],
      "source": [
        "df.info()"
      ]
    },
    {
      "cell_type": "code",
      "execution_count": 8,
      "metadata": {
        "colab": {
          "base_uri": "https://localhost:8080/"
        },
        "id": "AvzVhy8I3EFe",
        "outputId": "af5368c7-30ce-4497-c621-1cc461ab9261"
      },
      "outputs": [
        {
          "name": "stdout",
          "output_type": "stream",
          "text": [
            "(480, 13)\n"
          ]
        }
      ],
      "source": [
        "#remove all rows containing the null values\n",
        "df_clean = df.dropna()\n",
        "print(df_clean.shape)"
      ]
    },
    {
      "cell_type": "code",
      "execution_count": 9,
      "metadata": {
        "id": "KcxOyc2QUTRT"
      },
      "outputs": [],
      "source": [
        "# Data Preprocessing\n",
        "from sklearn.preprocessing import StandardScaler, LabelEncoder\n",
        "from sklearn.model_selection import train_test_split\n",
        "X = df_clean.drop(columns=['Loan_Status'])\n",
        "y = df_clean['Loan_Status']\n"
      ]
    },
    {
      "cell_type": "code",
      "execution_count": 10,
      "metadata": {
        "id": "x-CEcnFXzuFu"
      },
      "outputs": [],
      "source": [
        "# Normalize numerical feature using StandardScaler\n",
        "scale = StandardScaler()\n",
        "numerical = ['ApplicantIncome', 'CoapplicantIncome', 'LoanAmount', 'Loan_Amount_Term', 'Credit_History']\n",
        "X[numerical] = scale.fit_transform(X[numerical])\n",
        "# Encode categorical variables using Label Encoding\n",
        "categorical= ['Loan_ID','Gender', 'Married', 'Dependents', 'Education', 'Self_Employed', 'Property_Area']\n",
        "encoder = LabelEncoder()\n",
        "\n",
        "for f in categorical:\n",
        "    X[f] = encoder.fit_transform(X[f])"
      ]
    },
    {
      "cell_type": "code",
      "execution_count": 11,
      "metadata": {
        "id": "lXIAjLl42g9F"
      },
      "outputs": [],
      "source": [
        "X_train, X_test, y_train, y_test = train_test_split(X, y, test_size=0.2, random_state=42)"
      ]
    },
    {
      "cell_type": "code",
      "execution_count": 12,
      "metadata": {
        "colab": {
          "base_uri": "https://localhost:8080/"
        },
        "id": "aw_82_-E21ZY",
        "outputId": "955f5aa6-6514-4af7-910a-fc74697f3cd6"
      },
      "outputs": [
        {
          "name": "stdout",
          "output_type": "stream",
          "text": [
            "<class 'pandas.core.frame.DataFrame'>\n",
            "Int64Index: 384 entries, 172 to 137\n",
            "Data columns (total 12 columns):\n",
            " #   Column             Non-Null Count  Dtype  \n",
            "---  ------             --------------  -----  \n",
            " 0   Loan_ID            384 non-null    int64  \n",
            " 1   Gender             384 non-null    int64  \n",
            " 2   Married            384 non-null    int64  \n",
            " 3   Dependents         384 non-null    int64  \n",
            " 4   Education          384 non-null    int64  \n",
            " 5   Self_Employed      384 non-null    int64  \n",
            " 6   ApplicantIncome    384 non-null    float64\n",
            " 7   CoapplicantIncome  384 non-null    float64\n",
            " 8   LoanAmount         384 non-null    float64\n",
            " 9   Loan_Amount_Term   384 non-null    float64\n",
            " 10  Credit_History     384 non-null    float64\n",
            " 11  Property_Area      384 non-null    int64  \n",
            "dtypes: float64(5), int64(7)\n",
            "memory usage: 39.0 KB\n"
          ]
        }
      ],
      "source": [
        "X_train.info()"
      ]
    },
    {
      "cell_type": "code",
      "execution_count": 15,
      "metadata": {
        "colab": {
          "base_uri": "https://localhost:8080/"
        },
        "id": "mfy-Di001DCe",
        "outputId": "47c8609b-7f70-4e02-fa88-5e915e984c1c"
      },
      "outputs": [
        {
          "name": "stdout",
          "output_type": "stream",
          "text": [
            "Accuracy =  0.8229166666666666\n",
            "Precision =  0.8\n",
            "Recall =  1.0\n"
          ]
        }
      ],
      "source": [
        "from sklearn.linear_model import LogisticRegression\n",
        "from sklearn.metrics import accuracy_score, precision_score, recall_score\n",
        "\n",
        "# Train a Logistic Regression\n",
        "logistic = LogisticRegression(solver='saga', random_state=42, max_iter=4000)\n",
        "\n",
        "# Train the model on the training data\n",
        "logistic.fit(X_train, y_train)\n",
        "y_pred = logistic.predict(X_test)\n",
        "a = accuracy_score(y_test, y_pred)\n",
        "p = precision_score(y_test, y_pred, pos_label='Y')\n",
        "r = recall_score(y_test, y_pred, pos_label='Y')\n",
        "print(\"Accuracy = \", a)\n",
        "print(\"Precision = \", p)\n",
        "print(\"Recall = \", r)"
      ]
    },
    {
      "cell_type": "code",
      "execution_count": 18,
      "metadata": {
        "colab": {
          "base_uri": "https://localhost:8080/"
        },
        "id": "Ejo20qBM2ivj",
        "outputId": "ed3a5ded-f864-4ca9-ed56-764eff9da37b"
      },
      "outputs": [
        {
          "name": "stderr",
          "output_type": "stream",
          "text": [
            "/usr/local/lib/python3.10/dist-packages/sklearn/base.py:432: UserWarning: X has feature names, but LogisticRegression was fitted without feature names\n",
            "  warnings.warn(\n",
            "/usr/local/lib/python3.10/dist-packages/sklearn/base.py:432: UserWarning: X has feature names, but LogisticRegression was fitted without feature names\n",
            "  warnings.warn(\n",
            "/usr/local/lib/python3.10/dist-packages/sklearn/base.py:432: UserWarning: X has feature names, but LogisticRegression was fitted without feature names\n",
            "  warnings.warn(\n",
            "/usr/local/lib/python3.10/dist-packages/sklearn/base.py:432: UserWarning: X has feature names, but LogisticRegression was fitted without feature names\n",
            "  warnings.warn(\n"
          ]
        },
        {
          "name": "stdout",
          "output_type": "stream",
          "text": [
            "mean accuracy =  0.8026315789473685\n",
            "mean precision =  0.7900510102147127\n",
            "mean recall =  0.9735603641641377\n"
          ]
        },
        {
          "name": "stderr",
          "output_type": "stream",
          "text": [
            "/usr/local/lib/python3.10/dist-packages/sklearn/base.py:432: UserWarning: X has feature names, but LogisticRegression was fitted without feature names\n",
            "  warnings.warn(\n"
          ]
        }
      ],
      "source": [
        "#Cross Validate the classifier with 5-folds\n",
        "# print the mean accuracy, precision and recall\n",
        "# k fold validation\n",
        "\n",
        "k=5\n",
        "accuracy= []\n",
        "precision= []\n",
        "recall= []\n",
        "\n",
        "# split in equal part/folds len(X_train/k)\n",
        "fold=len(X_train) // k\n",
        "\n",
        "# take each part as validation and rest 4 as training\n",
        "for f in range(k):\n",
        "    start = f * fold\n",
        "    end = (f + 1) * fold\n",
        "\n",
        "    # intially take 0 to fold as validation and rest as train\n",
        "    # at every itration increase the fold size by equal number\n",
        "    Xf_train = np.concatenate((X_train[:start], X_train[end:]), axis=0)\n",
        "    yf_train = np.concatenate((y_train[:start], y_train[end:]), axis=0)\n",
        "    X_val = X_train[start:end]\n",
        "    y_val = y_train[start:end]\n",
        "\n",
        "    #train the logistic regression on subpart\n",
        "    logistic = LogisticRegression(solver='saga', random_state=42,max_iter=5000)\n",
        "\n",
        "    # Train the model on the training data\n",
        "    logistic.fit(Xf_train, yf_train)\n",
        "\n",
        "    #predict on the validation\n",
        "    y_pred = logistic.predict(X_val)\n",
        "    a = accuracy_score(y_val, y_pred)\n",
        "    p = precision_score(y_val, y_pred,pos_label='Y')\n",
        "    r = recall_score(y_val, y_pred,pos_label='Y')\n",
        "    accuracy.append(a)\n",
        "    precision.append(p)\n",
        "    recall.append(r)\n",
        "\n",
        "#  print the mean accuracy, precision and recall for the class 1(good) for the classifier.\n",
        "print(\"mean accuracy = \", np.mean(accuracy))\n",
        "print(\"mean precision = \", np.mean(precision))\n",
        "print(\"mean recall = \", np.mean(recall))"
      ]
    },
    {
      "cell_type": "code",
      "execution_count": null,
      "metadata": {
        "id": "ACiwxKMNE8To"
      },
      "outputs": [],
      "source": []
    }
  ],
  "metadata": {
    "colab": {
      "provenance": []
    },
    "kernelspec": {
      "display_name": "base",
      "language": "python",
      "name": "python3"
    },
    "language_info": {
      "codemirror_mode": {
        "name": "ipython",
        "version": 3
      },
      "file_extension": ".py",
      "mimetype": "text/x-python",
      "name": "python",
      "nbconvert_exporter": "python",
      "pygments_lexer": "ipython3",
      "version": "3.9.12"
    },
    "orig_nbformat": 4,
    "vscode": {
      "interpreter": {
        "hash": "3067ead486e059ec00ffe7555bdb889e6e264a24dc711bf108106cc7baee8d5d"
      }
    }
  },
  "nbformat": 4,
  "nbformat_minor": 0
}
